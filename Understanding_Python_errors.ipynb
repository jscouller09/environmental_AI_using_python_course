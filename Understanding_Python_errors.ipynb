{
  "nbformat": 4,
  "nbformat_minor": 0,
  "metadata": {
    "colab": {
      "provenance": [],
      "include_colab_link": true
    },
    "kernelspec": {
      "name": "python3",
      "display_name": "Python 3"
    },
    "language_info": {
      "name": "python"
    }
  },
  "cells": [
    {
      "cell_type": "markdown",
      "metadata": {
        "id": "view-in-github",
        "colab_type": "text"
      },
      "source": [
        "<a href=\"https://colab.research.google.com/github/jscouller09/environmental_AI_using_python_course/blob/main/Understanding_Python_errors.ipynb\" target=\"_parent\"><img src=\"https://colab.research.google.com/assets/colab-badge.svg\" alt=\"Open In Colab\"/></a>"
      ]
    },
    {
      "cell_type": "markdown",
      "source": [
        "###Reading Stack traces"
      ],
      "metadata": {
        "id": "fftJXlf0fdFu"
      }
    },
    {
      "cell_type": "code",
      "execution_count": null,
      "metadata": {
        "id": "NAXhDZsbfYiM"
      },
      "outputs": [],
      "source": [
        "import pandas"
      ]
    },
    {
      "cell_type": "markdown",
      "source": [
        "When we see **SyntaxError: invalid syntax** it usually means there is a typo somewhere within the line, here, we typoed \"import\" and that caused an error"
      ],
      "metadata": {
        "id": "4PmSS1vtfozA"
      }
    },
    {
      "cell_type": "code",
      "source": [
        "import pyart"
      ],
      "metadata": {
        "id": "TAX6EqrPf7gv"
      },
      "execution_count": null,
      "outputs": []
    },
    {
      "cell_type": "markdown",
      "source": [
        "The error **ModuleNotFoundError: No module named 'pyart'** usually mean that there is either a typo in the module name, or the module hasn't been installed. A good resource to check is pypi.org which has a list of all the modules, (including the ones not installed in Colab) and install them. (Note that sometimes the installation name for the module may not be the same as the actual module name i.e. arm-pyart, which is why it is a good practice to check pypi before installing the modules   (ARM Pyart is a module used to read the surveilence radar files"
      ],
      "metadata": {
        "id": "5c8V7M-GigJx"
      }
    },
    {
      "cell_type": "code",
      "source": [
        "!pip install arm-pyart"
      ],
      "metadata": {
        "id": "1f7qXrYujOkd"
      },
      "execution_count": null,
      "outputs": []
    },
    {
      "cell_type": "markdown",
      "source": [
        "Watch for any error messages, sometimes it is because the module is OS/system specific, or has conflicts with other modules. If we stick to the standard modules, it usually goes without a hitch. Now that it is installed, let's go on to the next bit."
      ],
      "metadata": {
        "id": "os4-yQHYkAe1"
      }
    },
    {
      "cell_type": "code",
      "source": [
        "import pyart"
      ],
      "metadata": {
        "id": "RopqUl7qkSOp"
      },
      "execution_count": null,
      "outputs": []
    },
    {
      "cell_type": "markdown",
      "source": [
        "Another common mistake is to forget the parentheses when calling a function"
      ],
      "metadata": {
        "id": "EOrH3AmlH50h"
      }
    },
    {
      "cell_type": "code",
      "source": [
        "print 123"
      ],
      "metadata": {
        "id": "StDMnkbUHzYr"
      },
      "execution_count": null,
      "outputs": []
    },
    {
      "cell_type": "markdown",
      "source": [
        "Or neglecting to import the library that provide the function"
      ],
      "metadata": {
        "id": "bGEbWuwzIEsW"
      }
    },
    {
      "cell_type": "code",
      "source": [
        "argmax([1,2,3]) # both of these will cause an error\n",
        "np.argmax([1,2,3])\n",
        "\n",
        "#from np import argmax ##fix for line 1\n",
        "#import np ##fix for line 2"
      ],
      "metadata": {
        "id": "-GU05aYeIPOR"
      },
      "execution_count": null,
      "outputs": []
    },
    {
      "cell_type": "markdown",
      "source": [
        "### In the following we are going to learn how to avoid some of the more complex errors and resolve them"
      ],
      "metadata": {
        "id": "9FQuflTXkqaz"
      }
    },
    {
      "cell_type": "code",
      "source": [
        "myList=[1,2,3,45\n",
        "print('Hello world, in this example, we have missed out a matching quote mark, we can resolve this by either changing quotation marks\")\n",
        "print('In this example, we missed out a matching close parenthesis, we can resolve this by adding the appropriate  parenthesis'\n",
        "myVar={42,]\n"
      ],
      "metadata": {
        "id": "LsDCJ1mzkWEI"
      },
      "execution_count": null,
      "outputs": []
    },
    {
      "cell_type": "markdown",
      "source": [
        "Here there are multiple errors of the same nature, i/e the blocks are not terminated correctly. All \"blocks\" need to be terminated using the same type of symbols. There are minor difference between the different terminators, but for now we will ignore the difference. Note that although there are multiple errors, python didn't report all of them, (and not even the first error (there are reasons for that)). Try fixing the errors one at a time and see how the error messages \"changes\""
      ],
      "metadata": {
        "id": "EC1ReOWul24V"
      }
    },
    {
      "cell_type": "code",
      "source": [
        "print('Notice that this is fine')\n",
        "print = 512\n",
        "print('Notice that this is not fine')\n"
      ],
      "metadata": {
        "id": "y69FICP1nhIU"
      },
      "execution_count": null,
      "outputs": []
    },
    {
      "cell_type": "markdown",
      "source": [
        "Sometimes you may find that running the same block of code works the first time, but fails on subsequent runs. Python allows users to use any variable name even names of important functions. In this example, we have \"corrupted\" the function print, and it now behaves like the value '512'. For this reason, it is a good practice to use very descriptive names for any user defined variables, and prepend them with the name my.. ie 'myPrintValue = 512'. Usually at this point I would help my students find the offending variable, fix it and restart the kernel(Python) from scratch, but here because the I know that nothing is corrupted, and I know that I can just delete the offending variable name to get it working. I am just going to do just that."
      ],
      "metadata": {
        "id": "RiuKszAroLFi"
      }
    },
    {
      "cell_type": "code",
      "source": [
        "del(print)\n",
        "print('Notice that this is now fine')"
      ],
      "metadata": {
        "id": "K96xxCS7oHL2"
      },
      "execution_count": null,
      "outputs": []
    },
    {
      "cell_type": "markdown",
      "source": [
        "### Loops, cases, and indentations in Python"
      ],
      "metadata": {
        "id": "WQSHadQ7p-Lf"
      }
    },
    {
      "cell_type": "code",
      "source": [
        "for i in range(10)\n",
        "    print(i)"
      ],
      "metadata": {
        "id": "IKEbaEHcqRXJ"
      },
      "execution_count": null,
      "outputs": []
    },
    {
      "cell_type": "code",
      "source": [
        "for i in range(10):\n",
        "print(i)"
      ],
      "metadata": {
        "id": "1QN4XvyotLOR"
      },
      "execution_count": null,
      "outputs": []
    },
    {
      "cell_type": "markdown",
      "source": [
        "In python, every case block and loop blocks are terminated with a : and followed by an indented block"
      ],
      "metadata": {
        "id": "KCc1p84Qq4GY"
      }
    },
    {
      "cell_type": "code",
      "source": [
        "for i in range(10):\n",
        "   print('Current value is ',i)\n",
        "    print('Previous value is ',i-1)"
      ],
      "metadata": {
        "id": "PHhoIYJEqmTF"
      },
      "execution_count": null,
      "outputs": []
    },
    {
      "cell_type": "markdown",
      "source": [
        "In python the indentation shows that the code belongs to the same block as the other code within the indent. An important thing to note if you are writing Python code outside of Colab is that \"tab\" and \"space\" are intepreted differently and you cannot mix the two for your indents (this a source of my annoyance when using notepad++ to write codes). Fortunately Colab automatically converts \"tabs\" to \"space\" for the user's convenience"
      ],
      "metadata": {
        "id": "dGLFwI1yrB74"
      }
    },
    {
      "cell_type": "code",
      "source": [
        "print(\"This line is not indented\")\n",
        " print(\"I accidentally added a space before the start of this line\")\n"
      ],
      "metadata": {
        "id": "EKNzx3PeJLd6"
      },
      "execution_count": null,
      "outputs": []
    },
    {
      "cell_type": "markdown",
      "source": [
        "Notice that python is extremely sensitive to indents, and if the users accidentally indents the code, the user may end up with errors."
      ],
      "metadata": {
        "id": "7rHYFL-FJeeU"
      }
    },
    {
      "cell_type": "code",
      "source": [
        "import pandas as pd"
      ],
      "metadata": {
        "id": "yD9cE_zEshpX"
      },
      "execution_count": null,
      "outputs": []
    },
    {
      "cell_type": "code",
      "source": [
        "myDataFrame=pd.readcsv(filename='myfile.csv')"
      ],
      "metadata": {
        "id": "CkH5dOn6se-r"
      },
      "execution_count": null,
      "outputs": []
    },
    {
      "cell_type": "markdown",
      "source": [
        "Module .... has no attribute .... usually means that user has typoed the function/variable name, a good resource to check would be to look at the module documentation (again you can find it by clicking homepage at pypi.org)"
      ],
      "metadata": {
        "id": "NwFsc7Xct0oe"
      }
    },
    {
      "cell_type": "code",
      "source": [
        "myDataFrame=pd.read_csv(filename='myfile.csv')"
      ],
      "metadata": {
        "id": "o9WVD8fQtoVe"
      },
      "execution_count": null,
      "outputs": []
    },
    {
      "cell_type": "markdown",
      "source": [
        "**Unexpected keyword usually means that one of the arguments in the function is incorrect, again, look at the module documentation to find out how to call the function**"
      ],
      "metadata": {
        "id": "tsWA0prOuqug"
      }
    },
    {
      "cell_type": "code",
      "source": [
        "myDataFrame=pd.read_csv(myfile.csv)"
      ],
      "metadata": {
        "id": "F5VO8OFLtsZQ"
      },
      "execution_count": null,
      "outputs": []
    },
    {
      "cell_type": "markdown",
      "source": [
        "Another thing to remember is that all strings (text) needs to be in quotes, if you pass it without quotes, python is going to assume you are trying to pass a variable. Here we are getting an error because the variable myfile.csv is not defined"
      ],
      "metadata": {
        "id": "9KPafpIWvT8n"
      }
    },
    {
      "cell_type": "code",
      "source": [
        "myDataFrame=pd.read_csv('myfile.csv')"
      ],
      "metadata": {
        "id": "uTZoAAEfuhuZ"
      },
      "execution_count": null,
      "outputs": []
    },
    {
      "cell_type": "markdown",
      "source": [
        "The example of the wall of text above is called a stack trace, usually the most pertinent message is at the top and the bottom of the stack trace. Fortunately Colab hides the messy middle bits and only highlight the pertinent bits. here we can tell that this error is caused because the file 'myfile.csv' is not found. It is possible that it is in a different folder than what python is expecting or it hasn't been uploaded. Handily there is a button \"SEARCH STACK OVERFLOW\" clicking on this will search StackOverflow (a handy website for programming) for the same error."
      ],
      "metadata": {
        "id": "RMtDlulHvOJj"
      }
    },
    {
      "cell_type": "markdown",
      "source": [
        "Additional notes, sometimes the version installed does not match the documentation. It is important to check the version of the library using \"`library_name.__version__`'"
      ],
      "metadata": {
        "id": "QvDM5LqY11Lk"
      }
    },
    {
      "cell_type": "code",
      "source": [
        "pd.__version__"
      ],
      "metadata": {
        "id": "OcZsh-G_2Kgn"
      },
      "execution_count": null,
      "outputs": []
    }
  ]
}